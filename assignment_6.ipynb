{
 "cells": [
  {
   "cell_type": "markdown",
   "metadata": {},
   "source": [
    "# Assignment 6"
   ]
  },
  {
   "cell_type": "markdown",
   "metadata": {},
   "source": [
    "**Exercise 1:**  write a Python program to find palindromes in a given list of strings using Lambda.\n",
    "\n",
    "Apply the Python program for the following two lists:\n",
    "\n",
    "**Input 1:** ```['civic', 'Lambda', 'Python', 'QTM', 'Java', 'ana']```\n",
    "\n",
    "**Output 1:** ```['civic', 'ana']```\n",
    "\n",
    "**Input 2:** ```['nurses run', 'Nurses Run', 'madam', 'Stats', 'World', 'what']```\n",
    "\n",
    "**Output 2:** ```['nurses run', 'Nurses Run', 'madam', 'Stats']```"
   ]
  },
  {
   "cell_type": "code",
   "execution_count": 14,
   "metadata": {},
   "outputs": [
    {
     "name": "stdout",
     "output_type": "stream",
     "text": [
      "\n",
      "Orginal list of strings:\n",
      "['civic', 'Lambda', 'Python', 'QTM', 'Java', 'ana']\n",
      "\n",
      "List of palindromes:\n",
      "['civic', 'ana']\n",
      "\n",
      "Orginal list of strings:\n",
      "['nurses run', 'Nurses Run', 'madam', 'Stats', 'World', 'what']\n",
      "\n",
      "List of palindromes:\n",
      "['nurses run', 'Nurses Run', 'madam', 'Stats']\n"
     ]
    }
   ],
   "source": [
    "l = ['civic', 'Lambda', 'Python', 'QTM', 'Java', 'ana']\n",
    "print(\"\\nOrginal list of strings:\")\n",
    "print(l) \n",
    "result = list(filter(lambda x: (x.replace(\" \",\"\").lower() == \"\".join(reversed(x.replace(\" \",\"\").lower()))), l)) \n",
    "print(\"\\nList of palindromes:\")\n",
    "print(result) \n",
    "\n",
    "l = ['nurses run', 'Nurses Run', 'madam', 'Stats', 'World', 'what']\n",
    "print(\"\\nOrginal list of strings:\")\n",
    "print(l) \n",
    "result = list(filter(lambda x: (x.replace(\" \",\"\").lower() == \"\".join(reversed(x.replace(\" \",\"\").lower()))), l)) \n",
    "print(\"\\nList of palindromes:\")\n",
    "print(result) "
   ]
  },
  {
   "cell_type": "markdown",
   "metadata": {},
   "source": [
    "**Exercise 2:** write a Python program to calculate the sum of the positive and negative numbers of a given list of numbers using lambda function.\n",
    "\n",
    "**Output:**\n",
    "\n",
    "Original list: [2, 4, -6, -9, 11, -12, 14, -5, 17]\n",
    "\n",
    "Sum of the positive numbers:  -32\n",
    "\n",
    "Sum of the negative numbers:  48"
   ]
  },
  {
   "cell_type": "code",
   "execution_count": 15,
   "metadata": {},
   "outputs": [
    {
     "name": "stdout",
     "output_type": "stream",
     "text": [
      "Original list: [2, 4, -6, -9, 11, -12, 14, -5, 17]\n",
      "\n",
      " Sum of the positive numbers:  -32\n",
      "\n",
      " Sum of the negative numbers:  48\n"
     ]
    }
   ],
   "source": [
    "l=[2, 4, -6, -9, 11, -12, 14, -5, 17]\n",
    "print(\"Original list:\",l)\n",
    "\n",
    "total_negative_nums = list(filter(lambda x:x<0,l))\n",
    "total_positive_nums = list(filter(lambda x:x>0,l))\n",
    "\n",
    "print(\"\\nSum of the positive numbers: \",sum(total_negative_nums))\n",
    "print(\"\\n Sum of the negative numbers: \",sum(total_positive_nums))"
   ]
  },
  {
   "cell_type": "markdown",
   "metadata": {},
   "source": [
    "**Exercise 3:** write a Python program to find the maximum, minimum and average values in a given heterogeneous list using lambda.\n",
    "\n",
    "**Output:**\n",
    "\n",
    "Original list: ['I', 'love' 3, 2, 4, 5, 'Python', 12]\n",
    "\n",
    "Maximum value: 12\n",
    "\n",
    "Minimum value: 2\n",
    "\n",
    "Average value: 5.2"
   ]
  },
  {
   "cell_type": "code",
   "execution_count": 13,
   "metadata": {},
   "outputs": [
    {
     "name": "stdout",
     "output_type": "stream",
     "text": [
      "Maximum value:  12\n",
      "\n",
      "Minimum value:  2\n",
      "\n",
      "Average value:  5.2\n"
     ]
    }
   ],
   "source": [
    "l= ['I', 'love', 3, 2, 4, 5, 'Python', 12]\n",
    "n=list(filter(lambda x: isinstance(x,int), l))\n",
    "mean=sum(n)/len(n)\n",
    "print('Maximum value: ',max(n))\n",
    "print('\\nMinimum value: ',min(n))\n",
    "print('\\nAverage value: ',mean)"
   ]
  },
  {
   "cell_type": "code",
   "execution_count": null,
   "metadata": {},
   "outputs": [],
   "source": []
  }
 ],
 "metadata": {
  "kernelspec": {
   "display_name": "conda_amazonei_mxnet_p36",
   "language": "python",
   "name": "conda_amazonei_mxnet_p36"
  },
  "language_info": {
   "codemirror_mode": {
    "name": "ipython",
    "version": 3
   },
   "file_extension": ".py",
   "mimetype": "text/x-python",
   "name": "python",
   "nbconvert_exporter": "python",
   "pygments_lexer": "ipython3",
   "version": "3.6.13"
  },
  "vscode": {
   "interpreter": {
    "hash": "9fbb33e86ca55080a202fed700efde3fb4ffe3f46131e5b52201b9ba06ce5f72"
   }
  }
 },
 "nbformat": 4,
 "nbformat_minor": 4
}
